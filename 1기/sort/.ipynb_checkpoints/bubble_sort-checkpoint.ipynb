{
 "cells": [
  {
   "cell_type": "markdown",
   "id": "2702892e-39e8-482f-a281-f95ae8107eee",
   "metadata": {},
   "source": [
    "## 버블 정렬"
   ]
  },
  {
   "cell_type": "code",
   "execution_count": 80,
   "id": "6d81a3e5-bd7f-4192-a10f-679b6e9a2ee2",
   "metadata": {},
   "outputs": [],
   "source": [
    "import java.util.Collections;\n",
    "public ArrayList<Integer> bubble_sort(ArrayList<Integer> data){\n",
    "    for(int i = 0 ;i < data.size(); i++){\n",
    "        boolean isSwap = false;\n",
    "        for(int j = 0 ;j < data.size() - 1 - i ; j++){\n",
    "            if(data.get(j) > data.get(j+1)){\n",
    "                Collections.swap(data, j, j+1);\n",
    "                isSwap = true;\n",
    "            }\n",
    "        }\n",
    "        if(!isSwap){\n",
    "            break;\n",
    "        }\n",
    "    }\n",
    "    return data;\n",
    "}"
   ]
  },
  {
   "cell_type": "code",
   "execution_count": 83,
   "id": "b5a2b252-48c8-4942-b7e1-913126a4085d",
   "metadata": {},
   "outputs": [
    {
     "data": {
      "text/plain": [
       "[1, 3, 4, 5, 7]"
      ]
     },
     "execution_count": 83,
     "metadata": {},
     "output_type": "execute_result"
    }
   ],
   "source": [
    "ArrayList<Integer> data = new ArrayList<>();\n",
    "data.add(7);\n",
    "data.add(5);\n",
    "data.add(4);\n",
    "data.add(3);\n",
    "data.add(1);\n",
    "bubble_sort(data);\n",
    "data"
   ]
  }
 ],
 "metadata": {
  "kernelspec": {
   "display_name": "Java",
   "language": "java",
   "name": "java"
  },
  "language_info": {
   "codemirror_mode": "java",
   "file_extension": ".jshell",
   "mimetype": "text/x-java-source",
   "name": "Java",
   "pygments_lexer": "java",
   "version": "11.0.13+7-b1751.21"
  }
 },
 "nbformat": 4,
 "nbformat_minor": 5
}
