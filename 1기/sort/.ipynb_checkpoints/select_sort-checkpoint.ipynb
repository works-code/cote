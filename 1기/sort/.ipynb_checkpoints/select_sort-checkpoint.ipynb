{
 "cells": [
  {
   "cell_type": "markdown",
   "id": "1de7f7d9-fed4-4005-ad64-785a81bcba08",
   "metadata": {},
   "source": [
    "## 선택 정렬"
   ]
  },
  {
   "cell_type": "code",
   "execution_count": 1,
   "id": "031afd89-4ca7-46de-84c7-13080f368b61",
   "metadata": {},
   "outputs": [],
   "source": [
    "import java.util.Collections;\n",
    "public ArrayList<Integer> select_sort(ArrayList<Integer> data){\n",
    "    for(int i = 0; i < data.size()-1; i++){\n",
    "        int least = i;\n",
    "        for(int j = i+1; j < data.size() ; j++){\n",
    "            if(data.get(j) < data.get(least)){\n",
    "                least = j;\n",
    "            }\n",
    "        }\n",
    "        \n",
    "        if(least != i){\n",
    "            Collections.swap(data,i,least);\n",
    "        }\n",
    "    }\n",
    "    return data;\n",
    "}"
   ]
  },
  {
   "cell_type": "code",
   "execution_count": 4,
   "id": "3e34ae3e-c8c6-4c56-80d3-16e7d98d467a",
   "metadata": {},
   "outputs": [
    {
     "data": {
      "text/plain": [
       "[1, 3, 4, 5, 7]"
      ]
     },
     "execution_count": 4,
     "metadata": {},
     "output_type": "execute_result"
    }
   ],
   "source": [
    "ArrayList<Integer> data = new ArrayList<>();\n",
    "data.add(7);\n",
    "data.add(5);\n",
    "data.add(4);\n",
    "data.add(3);\n",
    "data.add(1);\n",
    "select_sort(data);\n",
    "data"
   ]
  }
 ],
 "metadata": {
  "kernelspec": {
   "display_name": "Java",
   "language": "java",
   "name": "java"
  },
  "language_info": {
   "codemirror_mode": "java",
   "file_extension": ".jshell",
   "mimetype": "text/x-java-source",
   "name": "Java",
   "pygments_lexer": "java",
   "version": "11.0.13+7-b1751.21"
  }
 },
 "nbformat": 4,
 "nbformat_minor": 5
}
