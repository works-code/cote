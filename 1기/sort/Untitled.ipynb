{
 "cells": [
  {
   "cell_type": "markdown",
   "id": "ac92e97b-b57e-48fb-af30-a12d365e2068",
   "metadata": {},
   "source": [
    "# 정렬 문제"
   ]
  },
  {
   "cell_type": "markdown",
   "id": "4411c04c-0a77-4529-beaa-0083a5e933de",
   "metadata": {},
   "source": [
    "배열 array의 i번째 숫자부터 j번째 숫자까지 자르고 정렬했을 때, k번째에 있는 수를 구하려 합니다.\n",
    "\n",
    "예를 들어 array가 [1, 5, 2, 6, 3, 7, 4], i = 2, j = 5, k = 3이라면\n",
    "\n",
    "1. array의 2번째부터 5번째까지 자르면 [5, 2, 6, 3]입니다.\n",
    "2. 1에서 나온 배열을 정렬하면 [2, 3, 5, 6]입니다.\n",
    "3. 2에서 나온 배열의 3번째 숫자는 5입니다.\n",
    "\n",
    "배열 array, [i, j, k]를 원소로 가진 2차원 배열 commands가 매개변수로 주어질 때, commands의 모든 원소에 대해 앞서 설명한 연산을 적용한 결과를 배열에 담아 return 하도록 solution 함수를 작성해주세요."
   ]
  },
  {
   "cell_type": "code",
   "execution_count": 44,
   "id": "96ad2f6b-0e40-4a8b-822e-4ee9c40f216c",
   "metadata": {},
   "outputs": [
    {
     "data": {
      "text/plain": [
       "true"
      ]
     },
     "execution_count": 44,
     "metadata": {},
     "output_type": "execute_result"
    }
   ],
   "source": [
    "List<List<Integer>> indexs = new ArrayList<>();\n",
    "List<Integer> data_1 = new ArrayList<>();\n",
    "data_1.add(2);\n",
    "data_1.add(5);\n",
    "data_1.add(3);\n",
    "indexs.add(data_1);\n",
    "List<Integer> data_2 = new ArrayList<>();\n",
    "data_2.add(4);\n",
    "data_2.add(4);\n",
    "data_2.add(1);\n",
    "indexs.add(data_2);\n",
    "List<Integer> data_3 = new ArrayList<>();\n",
    "data_3.add(1);\n",
    "data_3.add(7);\n",
    "data_3.add(3);\n",
    "indexs.add(data_3);"
   ]
  },
  {
   "cell_type": "code",
   "execution_count": 45,
   "id": "9d43f809-940f-47dc-bc00-bb37b239d56a",
   "metadata": {},
   "outputs": [
    {
     "data": {
      "text/plain": [
       "[[2, 5, 3], [4, 4, 1], [1, 7, 3]]"
      ]
     },
     "execution_count": 45,
     "metadata": {},
     "output_type": "execute_result"
    }
   ],
   "source": [
    "indexs"
   ]
  },
  {
   "cell_type": "code",
   "execution_count": 47,
   "id": "cd32170f-098e-4ef9-b372-a0794abf427b",
   "metadata": {},
   "outputs": [],
   "source": [
    "public List<Integer> bubble_sort(List<Integer> data){\n",
    "    for(int i = 0 ;i < data.size(); i++){\n",
    "        boolean isSwap = false;\n",
    "        for(int j = 0 ;j < data.size() - 1 - i ; j++){\n",
    "            if(data.get(j) > data.get(j+1)){\n",
    "                Collections.swap(data, j, j+1);\n",
    "                isSwap = true;\n",
    "            }\n",
    "        }\n",
    "        if(!isSwap){\n",
    "            break;\n",
    "        }\n",
    "    }\n",
    "    return data;\n",
    "}"
   ]
  },
  {
   "cell_type": "code",
   "execution_count": 48,
   "id": "d4dbb927-4212-4d76-9e57-22b4b56de787",
   "metadata": {},
   "outputs": [],
   "source": [
    "List<Integer> result = new ArrayList<>();\n",
    "for(List<Integer> l :indexs){\n",
    "    int i = l.get(0);\n",
    "    int j = l.get(1);\n",
    "    int k = l.get(2);\n",
    "    List<Integer> arr = new ArrayList<>();\n",
    "    arr.add(1);\n",
    "    arr.add(5);\n",
    "    arr.add(2);\n",
    "    arr.add(6);\n",
    "    arr.add(3);\n",
    "    arr.add(7);\n",
    "    arr.add(4);\n",
    "    List<Integer> arr_sub = bubble_sort(arr.subList(i-1,j));\n",
    "    result.add(arr_sub.get(k-1));\n",
    "}"
   ]
  },
  {
   "cell_type": "code",
   "execution_count": 49,
   "id": "cc79474c-8bf0-43f6-9fa8-63e69fb9ff02",
   "metadata": {},
   "outputs": [
    {
     "data": {
      "text/plain": [
       "[5, 6, 3]"
      ]
     },
     "execution_count": 49,
     "metadata": {},
     "output_type": "execute_result"
    }
   ],
   "source": [
    "result;"
   ]
  },
  {
   "cell_type": "markdown",
   "id": "9cbb36db-95bd-47c9-b749-defd7fd78b2e",
   "metadata": {},
   "source": [
    "0 또는 양의 정수가 주어졌을 때, 정수를 이어 붙여 만들 수 있는 가장 큰 수를 알아내 주세요.\n",
    "\n",
    "예를 들어, 주어진 정수가 [6, 10, 2]라면 \n",
    "\n",
    "[6102, 6210, 1062, 1026, 2610, 2106]를 만들 수 있고, \n",
    "\n",
    "이중 가장 큰 수는 6210입니다.\n",
    "\n",
    "0 또는 양의 정수가 담긴 배열 numbers가 매개변수로 주어질 때, 순서를 재배치하여 만들 수 있는 가장 큰 수를 문자열로 바꾸어 return 하도록 solution 함수를 작성해주세요."
   ]
  },
  {
   "cell_type": "code",
   "execution_count": null,
   "id": "25517754-f6f9-4387-968c-faada4bb99ae",
   "metadata": {},
   "outputs": [],
   "source": []
  },
  {
   "cell_type": "code",
   "execution_count": null,
   "id": "ed418283-6c86-488b-9730-5e454f5c5ec3",
   "metadata": {},
   "outputs": [],
   "source": []
  },
  {
   "cell_type": "code",
   "execution_count": null,
   "id": "8f743934-c244-4f5f-8144-36ba3d23d96d",
   "metadata": {},
   "outputs": [],
   "source": []
  },
  {
   "cell_type": "markdown",
   "id": "ec1e367d-a46a-4c03-bc3b-41686aa2ac92",
   "metadata": {},
   "source": [
    "H-Index는 과학자의 생산성과 영향력을 나타내는 지표입니다. 어느 과학자의 H-Index를 나타내는 값인 h를 구하려고 합니다. 위키백과에 따르면, H-Index는 다음과 같이 구합니다.\n",
    "\n",
    "어떤 과학자가 발표한 논문 `n`편 중, \n",
    "\n",
    "`h`번 이상 인용된 논문이 `h`편 이상이고 나머지 논문이 h번 미만 인용되었다면 \n",
    "\n",
    "`h`의 최댓값이 이 과학자의 H-Index입니다.\n",
    "\n",
    "어떤 과학자가 발표한 논문의 인용 횟수를 담은 배열 citations가 매개변수로 주어질 때, 이 과학자의 H-Index를 return 하도록 solution 함수를 작성해주세요."
   ]
  },
  {
   "cell_type": "code",
   "execution_count": 50,
   "id": "d4a41663-61af-4b9a-af62-470111365678",
   "metadata": {},
   "outputs": [],
   "source": [
    "List<Integer> arr = new ArrayList();"
   ]
  },
  {
   "cell_type": "code",
   "execution_count": 51,
   "id": "c288f0be-d994-4038-9dae-cf94c9b30603",
   "metadata": {},
   "outputs": [
    {
     "data": {
      "text/plain": [
       "true"
      ]
     },
     "execution_count": 51,
     "metadata": {},
     "output_type": "execute_result"
    }
   ],
   "source": [
    "arr.add(3);\n",
    "arr.add(0);\n",
    "arr.add(6);\n",
    "arr.add(1);\n",
    "arr.add(5);"
   ]
  },
  {
   "cell_type": "code",
   "execution_count": 52,
   "id": "e589d0fd-8d91-436a-b401-fbf89dc8c7e7",
   "metadata": {},
   "outputs": [
    {
     "data": {
      "text/plain": [
       "[3, 0, 6, 1, 5]"
      ]
     },
     "execution_count": 52,
     "metadata": {},
     "output_type": "execute_result"
    }
   ],
   "source": [
    "arr"
   ]
  },
  {
   "cell_type": "code",
   "execution_count": 53,
   "id": "15f98342-6777-4f9c-a6f6-895121b30c79",
   "metadata": {},
   "outputs": [
    {
     "ename": "CompilationException",
     "evalue": "",
     "output_type": "error",
     "traceback": [
      "\u001b[1m\u001b[30m|   \u001b[1m\u001b[30m\u001b[0m\u001b[1m\u001b[30m\u001b[41mArrays.sort\u001b[0m\u001b[1m\u001b[30m(arr);\u001b[0m",
      "\u001b[1m\u001b[31mno suitable method found for sort(java.util.List<java.lang.Integer>)\u001b[0m",
      "\u001b[1m\u001b[31m    method java.util.Arrays.sort(int[]) is not applicable\u001b[0m",
      "\u001b[1m\u001b[31m      (argument mismatch; java.util.List<java.lang.Integer> cannot be converted to int[])\u001b[0m",
      "\u001b[1m\u001b[31m    method java.util.Arrays.sort(long[]) is not applicable\u001b[0m",
      "\u001b[1m\u001b[31m      (argument mismatch; java.util.List<java.lang.Integer> cannot be converted to long[])\u001b[0m",
      "\u001b[1m\u001b[31m    method java.util.Arrays.sort(short[]) is not applicable\u001b[0m",
      "\u001b[1m\u001b[31m      (argument mismatch; java.util.List<java.lang.Integer> cannot be converted to short[])\u001b[0m",
      "\u001b[1m\u001b[31m    method java.util.Arrays.sort(char[]) is not applicable\u001b[0m",
      "\u001b[1m\u001b[31m      (argument mismatch; java.util.List<java.lang.Integer> cannot be converted to char[])\u001b[0m",
      "\u001b[1m\u001b[31m    method java.util.Arrays.sort(byte[]) is not applicable\u001b[0m",
      "\u001b[1m\u001b[31m      (argument mismatch; java.util.List<java.lang.Integer> cannot be converted to byte[])\u001b[0m",
      "\u001b[1m\u001b[31m    method java.util.Arrays.sort(float[]) is not applicable\u001b[0m",
      "\u001b[1m\u001b[31m      (argument mismatch; java.util.List<java.lang.Integer> cannot be converted to float[])\u001b[0m",
      "\u001b[1m\u001b[31m    method java.util.Arrays.sort(double[]) is not applicable\u001b[0m",
      "\u001b[1m\u001b[31m      (argument mismatch; java.util.List<java.lang.Integer> cannot be converted to double[])\u001b[0m",
      "\u001b[1m\u001b[31m    method java.util.Arrays.sort(java.lang.Object[]) is not applicable\u001b[0m",
      "\u001b[1m\u001b[31m      (argument mismatch; java.util.List<java.lang.Integer> cannot be converted to java.lang.Object[])\u001b[0m",
      "\u001b[1m\u001b[31m    method java.util.Arrays.<T>sort(T[],java.util.Comparator<? super T>) is not applicable\u001b[0m",
      "\u001b[1m\u001b[31m      (cannot infer type-variable(s) T\u001b[0m",
      "\u001b[1m\u001b[31m        (actual and formal argument lists differ in length))\u001b[0m",
      "\u001b[1m\u001b[31m    method java.util.Arrays.<T>sort(T[],int,int,java.util.Comparator<? super T>) is not applicable\u001b[0m",
      "\u001b[1m\u001b[31m      (cannot infer type-variable(s) T\u001b[0m",
      "\u001b[1m\u001b[31m        (actual and formal argument lists differ in length))\u001b[0m",
      ""
     ]
    }
   ],
   "source": [
    "Arrays.sort(arr);"
   ]
  },
  {
   "cell_type": "code",
   "execution_count": null,
   "id": "5e6e0ffe-e0b1-459b-9299-3ae0756fb695",
   "metadata": {},
   "outputs": [],
   "source": []
  }
 ],
 "metadata": {
  "kernelspec": {
   "display_name": "Java",
   "language": "java",
   "name": "java"
  },
  "language_info": {
   "codemirror_mode": "java",
   "file_extension": ".jshell",
   "mimetype": "text/x-java-source",
   "name": "Java",
   "pygments_lexer": "java",
   "version": "11.0.13+7-b1751.21"
  }
 },
 "nbformat": 4,
 "nbformat_minor": 5
}
