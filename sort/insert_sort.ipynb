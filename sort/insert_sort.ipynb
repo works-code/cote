{
 "cells": [
  {
   "cell_type": "markdown",
   "id": "5f2d1291-657b-45bb-a140-9fe161c4764a",
   "metadata": {},
   "source": [
    "## 삽입 정렬"
   ]
  },
  {
   "cell_type": "code",
   "execution_count": 1,
   "id": "02723c44-7457-405a-981a-9a4499b09d94",
   "metadata": {},
   "outputs": [],
   "source": [
    "public ArrayList<Integer> insert_sort(ArrayList<Integer> data){\n",
    "    for(int i = 1; i < data.size(); i++){\n",
    "        for(int j = i;j > 0;j--){\n",
    "            if(data.get(j) < data.get(j-1)){\n",
    "                Collections.swap(data,j,j-1);\n",
    "            }else{\n",
    "                break;\n",
    "            }\n",
    "        }\n",
    "    }\n",
    "    return data;\n",
    "}"
   ]
  },
  {
   "cell_type": "code",
   "execution_count": 4,
   "id": "d65c2adf-1235-4d6a-bd47-9154f3c9518a",
   "metadata": {},
   "outputs": [
    {
     "data": {
      "text/plain": [
       "[1, 3, 4, 5, 7]"
      ]
     },
     "execution_count": 4,
     "metadata": {},
     "output_type": "execute_result"
    }
   ],
   "source": [
    "ArrayList<Integer> data = new ArrayList<>();\n",
    "data.add(7);\n",
    "data.add(5);\n",
    "data.add(4);\n",
    "data.add(3);\n",
    "data.add(1);\n",
    "insert_sort(data);\n",
    "data"
   ]
  }
 ],
 "metadata": {
  "kernelspec": {
   "display_name": "Java",
   "language": "java",
   "name": "java"
  },
  "language_info": {
   "codemirror_mode": "java",
   "file_extension": ".jshell",
   "mimetype": "text/x-java-source",
   "name": "Java",
   "pygments_lexer": "java",
   "version": "11.0.13+7-b1751.21"
  }
 },
 "nbformat": 4,
 "nbformat_minor": 5
}
